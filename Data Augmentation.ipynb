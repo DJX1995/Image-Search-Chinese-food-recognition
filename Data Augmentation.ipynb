{
 "cells": [
  {
   "cell_type": "markdown",
   "metadata": {},
   "source": [
    "# Data Augmentaion using keras\n"
   ]
  },
  {
   "cell_type": "code",
   "execution_count": null,
   "metadata": {},
   "outputs": [],
   "source": [
    "import numpy as np\n",
    "import glob as gb\n",
    "from keras.preprocessing.image import ImageDataGenerator, array_to_img, img_to_array, load_img"
   ]
  },
  {
   "cell_type": "code",
   "execution_count": 2,
   "metadata": {},
   "outputs": [],
   "source": [
    "datagen = ImageDataGenerator(\n",
    "        rotation_range=30,\n",
    "        width_shift_range=0.2,\n",
    "        height_shift_range=0.2,\n",
    "        shear_range=0.2,\n",
    "        zoom_range=0.1,\n",
    "        fill_mode='constant')"
   ]
  },
  {
   "cell_type": "code",
   "execution_count": null,
   "metadata": {},
   "outputs": [
    {
     "name": "stdout",
     "output_type": "stream",
     "text": [
      "load ./resultscang\\0.jpg\n",
      "load ./resultscang\\1.jpg\n",
      "load ./resultscang\\10.jpg\n",
      "load ./resultscang\\100.jpg\n",
      "load ./resultscang\\1000.jpg\n",
      "load ./resultscang\\1001.jpg\n",
      "load ./resultscang\\1002.jpg\n",
      "load ./resultscang\\1003.jpg\n",
      "load ./resultscang\\1004.jpg\n",
      "load ./resultscang\\1006.jpg\n",
      "load ./resultscang\\1007.jpg\n",
      "load ./resultscang\\1008.jpg\n",
      "load ./resultscang\\1009.jpg\n",
      "load ./resultscang\\101.jpg\n",
      "load ./resultscang\\1010.jpg\n",
      "load ./resultscang\\1011.jpg\n",
      "load ./resultscang\\1015.jpg\n",
      "load ./resultscang\\1016.jpg\n",
      "load ./resultscang\\1018.jpg\n",
      "load ./resultscang\\1019.jpg\n",
      "load ./resultscang\\102.jpg\n",
      "load ./resultscang\\1021.jpg\n",
      "load ./resultscang\\1022.jpg\n",
      "load ./resultscang\\1023.jpg\n",
      "load ./resultscang\\1026.jpg\n",
      "load ./resultscang\\1027.jpg\n",
      "load ./resultscang\\1028.jpg\n",
      "load ./resultscang\\1029.jpg\n",
      "load ./resultscang\\1030.jpg\n",
      "load ./resultscang\\1031.jpg\n",
      "load ./resultscang\\1032.jpg\n",
      "load ./resultscang\\1034.jpg\n",
      "load ./resultscang\\1036.jpg\n",
      "load ./resultscang\\1037.jpg\n",
      "load ./resultscang\\104.jpg\n",
      "load ./resultscang\\1041.jpg\n",
      "load ./resultscang\\1042.jpg\n",
      "load ./resultscang\\1043.jpg\n",
      "load ./resultscang\\1044.jpg\n",
      "load ./resultscang\\1047.jpg\n",
      "load ./resultscang\\1048.jpg\n",
      "load ./resultscang\\1049.jpg\n",
      "load ./resultscang\\1050.jpg\n"
     ]
    }
   ],
   "source": [
    "img_path = gb.glob(\"./resultscang/*.jpg\")\n",
    "\n",
    "index = 0\n",
    "\n",
    "for path in img_path:\n",
    "    print(\"load {}\".format(path))    \n",
    "    img = load_img(path)\n",
    "    \n",
    "    try:\n",
    "        x = img_to_array(img)  \n",
    "        x = x.reshape((1,) + x.shape)  # reshape to (1, channel, width, height)\n",
    "\n",
    "        i = 0\n",
    "        for batch in datagen.flow(x, batch_size=1, save_to_dir='results',  save_prefix='MapoTofu{}'.format(index), save_format='jpg'):\n",
    "            i += 1\n",
    "            if i > 5:# generate 5 images\n",
    "                break\n",
    "        index += 1\n",
    "    except:\n",
    "        pass"
   ]
  },
  {
   "cell_type": "code",
   "execution_count": 2,
   "metadata": {},
   "outputs": [
    {
     "name": "stdout",
     "output_type": "stream",
     "text": [
      "6992\n"
     ]
    }
   ],
   "source": [
    "img_path2 = gb.glob(\"./results/*.jpg\")\n",
    "print(len(img_path2))"
   ]
  },
  {
   "cell_type": "code",
   "execution_count": null,
   "metadata": {},
   "outputs": [],
   "source": []
  }
 ],
 "metadata": {
  "kernelspec": {
   "display_name": "Python 3",
   "language": "python",
   "name": "python3"
  },
  "language_info": {
   "codemirror_mode": {
    "name": "ipython",
    "version": 3
   },
   "file_extension": ".py",
   "mimetype": "text/x-python",
   "name": "python",
   "nbconvert_exporter": "python",
   "pygments_lexer": "ipython3",
   "version": "3.6.8"
  }
 },
 "nbformat": 4,
 "nbformat_minor": 2
}
